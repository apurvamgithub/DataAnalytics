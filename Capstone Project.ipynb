{
 "cells": [
  {
   "cell_type": "code",
   "execution_count": 1,
   "id": "6953e475",
   "metadata": {},
   "outputs": [],
   "source": [
    "import pandas as pd\n",
    "import numpy as np\n",
    "import seaborn as sns"
   ]
  },
  {
   "cell_type": "code",
   "execution_count": 68,
   "id": "86e3cece",
   "metadata": {},
   "outputs": [],
   "source": [
    "df = pd.read_csv(r'C:\\Apurva\\Data Analytics program\\Capstone project\\traindata.csv')"
   ]
  },
  {
   "cell_type": "code",
   "execution_count": 69,
   "id": "dcc9c1e6",
   "metadata": {},
   "outputs": [
    {
     "data": {
      "text/html": [
       "<div>\n",
       "<style scoped>\n",
       "    .dataframe tbody tr th:only-of-type {\n",
       "        vertical-align: middle;\n",
       "    }\n",
       "\n",
       "    .dataframe tbody tr th {\n",
       "        vertical-align: top;\n",
       "    }\n",
       "\n",
       "    .dataframe thead th {\n",
       "        text-align: right;\n",
       "    }\n",
       "</style>\n",
       "<table border=\"1\" class=\"dataframe\">\n",
       "  <thead>\n",
       "    <tr style=\"text-align: right;\">\n",
       "      <th></th>\n",
       "      <th>TripType</th>\n",
       "      <th>VisitNumber</th>\n",
       "      <th>Weekday</th>\n",
       "      <th>Upc</th>\n",
       "      <th>ScanCount</th>\n",
       "      <th>DepartmentDescription</th>\n",
       "      <th>FinelineNumber</th>\n",
       "    </tr>\n",
       "  </thead>\n",
       "  <tbody>\n",
       "    <tr>\n",
       "      <th>0</th>\n",
       "      <td>7</td>\n",
       "      <td>20</td>\n",
       "      <td>Friday</td>\n",
       "      <td>7.192192e+09</td>\n",
       "      <td>1</td>\n",
       "      <td>FROZEN FOODS</td>\n",
       "      <td>9117.0</td>\n",
       "    </tr>\n",
       "    <tr>\n",
       "      <th>1</th>\n",
       "      <td>7</td>\n",
       "      <td>20</td>\n",
       "      <td>Friday</td>\n",
       "      <td>6.811311e+10</td>\n",
       "      <td>2</td>\n",
       "      <td>SERVICE DELI</td>\n",
       "      <td>4010.0</td>\n",
       "    </tr>\n",
       "    <tr>\n",
       "      <th>2</th>\n",
       "      <td>25</td>\n",
       "      <td>28</td>\n",
       "      <td>Friday</td>\n",
       "      <td>8.805520e+11</td>\n",
       "      <td>1</td>\n",
       "      <td>LADIESWEAR</td>\n",
       "      <td>313.0</td>\n",
       "    </tr>\n",
       "    <tr>\n",
       "      <th>3</th>\n",
       "      <td>25</td>\n",
       "      <td>28</td>\n",
       "      <td>Friday</td>\n",
       "      <td>8.085947e+10</td>\n",
       "      <td>1</td>\n",
       "      <td>LADIESWEAR</td>\n",
       "      <td>4447.0</td>\n",
       "    </tr>\n",
       "    <tr>\n",
       "      <th>4</th>\n",
       "      <td>25</td>\n",
       "      <td>28</td>\n",
       "      <td>Friday</td>\n",
       "      <td>4.900004e+09</td>\n",
       "      <td>1</td>\n",
       "      <td>DSD GROCERY</td>\n",
       "      <td>9538.0</td>\n",
       "    </tr>\n",
       "  </tbody>\n",
       "</table>\n",
       "</div>"
      ],
      "text/plain": [
       "   TripType  VisitNumber Weekday           Upc  ScanCount  \\\n",
       "0         7           20  Friday  7.192192e+09          1   \n",
       "1         7           20  Friday  6.811311e+10          2   \n",
       "2        25           28  Friday  8.805520e+11          1   \n",
       "3        25           28  Friday  8.085947e+10          1   \n",
       "4        25           28  Friday  4.900004e+09          1   \n",
       "\n",
       "  DepartmentDescription  FinelineNumber  \n",
       "0          FROZEN FOODS          9117.0  \n",
       "1          SERVICE DELI          4010.0  \n",
       "2            LADIESWEAR           313.0  \n",
       "3            LADIESWEAR          4447.0  \n",
       "4           DSD GROCERY          9538.0  "
      ]
     },
     "execution_count": 69,
     "metadata": {},
     "output_type": "execute_result"
    }
   ],
   "source": [
    "df.head()"
   ]
  },
  {
   "cell_type": "code",
   "execution_count": 70,
   "id": "5099f5f0",
   "metadata": {},
   "outputs": [
    {
     "data": {
      "text/plain": [
       "TripType                 0\n",
       "VisitNumber              0\n",
       "Weekday                  0\n",
       "Upc                      0\n",
       "ScanCount                0\n",
       "DepartmentDescription    0\n",
       "FinelineNumber           0\n",
       "dtype: int64"
      ]
     },
     "execution_count": 70,
     "metadata": {},
     "output_type": "execute_result"
    }
   ],
   "source": [
    "df.isnull().sum()"
   ]
  },
  {
   "cell_type": "code",
   "execution_count": 71,
   "id": "b320a7db",
   "metadata": {
    "scrolled": false
   },
   "outputs": [
    {
     "data": {
      "text/html": [
       "<div>\n",
       "<style scoped>\n",
       "    .dataframe tbody tr th:only-of-type {\n",
       "        vertical-align: middle;\n",
       "    }\n",
       "\n",
       "    .dataframe tbody tr th {\n",
       "        vertical-align: top;\n",
       "    }\n",
       "\n",
       "    .dataframe thead th {\n",
       "        text-align: right;\n",
       "    }\n",
       "</style>\n",
       "<table border=\"1\" class=\"dataframe\">\n",
       "  <thead>\n",
       "    <tr style=\"text-align: right;\">\n",
       "      <th></th>\n",
       "      <th>TripType</th>\n",
       "      <th>VisitNumber</th>\n",
       "      <th>Weekday</th>\n",
       "      <th>Upc</th>\n",
       "      <th>ScanCount</th>\n",
       "      <th>DepartmentDescription</th>\n",
       "      <th>FinelineNumber</th>\n",
       "    </tr>\n",
       "  </thead>\n",
       "  <tbody>\n",
       "    <tr>\n",
       "      <th>0</th>\n",
       "      <td>7</td>\n",
       "      <td>20</td>\n",
       "      <td>Friday</td>\n",
       "      <td>7.192192e+09</td>\n",
       "      <td>1</td>\n",
       "      <td>FROZEN FOODS</td>\n",
       "      <td>9117.0</td>\n",
       "    </tr>\n",
       "    <tr>\n",
       "      <th>1</th>\n",
       "      <td>7</td>\n",
       "      <td>20</td>\n",
       "      <td>Friday</td>\n",
       "      <td>6.811311e+10</td>\n",
       "      <td>2</td>\n",
       "      <td>SERVICE DELI</td>\n",
       "      <td>4010.0</td>\n",
       "    </tr>\n",
       "    <tr>\n",
       "      <th>2</th>\n",
       "      <td>25</td>\n",
       "      <td>28</td>\n",
       "      <td>Friday</td>\n",
       "      <td>8.805520e+11</td>\n",
       "      <td>1</td>\n",
       "      <td>LADIESWEAR</td>\n",
       "      <td>313.0</td>\n",
       "    </tr>\n",
       "    <tr>\n",
       "      <th>3</th>\n",
       "      <td>25</td>\n",
       "      <td>28</td>\n",
       "      <td>Friday</td>\n",
       "      <td>8.085947e+10</td>\n",
       "      <td>1</td>\n",
       "      <td>LADIESWEAR</td>\n",
       "      <td>4447.0</td>\n",
       "    </tr>\n",
       "    <tr>\n",
       "      <th>4</th>\n",
       "      <td>25</td>\n",
       "      <td>28</td>\n",
       "      <td>Friday</td>\n",
       "      <td>4.900004e+09</td>\n",
       "      <td>1</td>\n",
       "      <td>DSD GROCERY</td>\n",
       "      <td>9538.0</td>\n",
       "    </tr>\n",
       "  </tbody>\n",
       "</table>\n",
       "</div>"
      ],
      "text/plain": [
       "   TripType  VisitNumber Weekday           Upc  ScanCount  \\\n",
       "0         7           20  Friday  7.192192e+09          1   \n",
       "1         7           20  Friday  6.811311e+10          2   \n",
       "2        25           28  Friday  8.805520e+11          1   \n",
       "3        25           28  Friday  8.085947e+10          1   \n",
       "4        25           28  Friday  4.900004e+09          1   \n",
       "\n",
       "  DepartmentDescription  FinelineNumber  \n",
       "0          FROZEN FOODS          9117.0  \n",
       "1          SERVICE DELI          4010.0  \n",
       "2            LADIESWEAR           313.0  \n",
       "3            LADIESWEAR          4447.0  \n",
       "4           DSD GROCERY          9538.0  "
      ]
     },
     "execution_count": 71,
     "metadata": {},
     "output_type": "execute_result"
    }
   ],
   "source": [
    "df.head()"
   ]
  },
  {
   "cell_type": "code",
   "execution_count": 72,
   "id": "55bcfef3",
   "metadata": {},
   "outputs": [
    {
     "data": {
      "text/plain": [
       "38    28525\n",
       "25    26493\n",
       "7     22168\n",
       "Name: TripType, dtype: int64"
      ]
     },
     "execution_count": 72,
     "metadata": {},
     "output_type": "execute_result"
    }
   ],
   "source": [
    "df['TripType'].value_counts()"
   ]
  },
  {
   "cell_type": "code",
   "execution_count": 73,
   "id": "d441d12a",
   "metadata": {},
   "outputs": [],
   "source": [
    "mapping_TripType = {7:0,25:1,38:2}\n",
    "df['TripType'] = df['TripType'].apply(lambda x : mapping_TripType[x])\n"
   ]
  },
  {
   "cell_type": "code",
   "execution_count": 74,
   "id": "8114cf6b",
   "metadata": {},
   "outputs": [],
   "source": [
    "from sklearn.preprocessing import LabelEncoder"
   ]
  },
  {
   "cell_type": "code",
   "execution_count": 75,
   "id": "cfd33bf7",
   "metadata": {},
   "outputs": [],
   "source": [
    "le = LabelEncoder()\n",
    "df['Weekday'] = le.fit_transform(df['Weekday'])\n",
    "df['DepartmentDescription'] = le.fit_transform(df['DepartmentDescription'])"
   ]
  },
  {
   "cell_type": "code",
   "execution_count": 76,
   "id": "67abb0e4",
   "metadata": {},
   "outputs": [],
   "source": [
    "X = df.iloc[:,1:]\n",
    "Y = df['TripType']"
   ]
  },
  {
   "cell_type": "code",
   "execution_count": 77,
   "id": "544ab7b9",
   "metadata": {},
   "outputs": [],
   "source": [
    "# without Upc\n",
    "\n",
    "X1=X.drop(['ScanCount'],axis=1)\n",
    "X1.drop(['Upc'],axis=1,inplace=True)"
   ]
  },
  {
   "cell_type": "code",
   "execution_count": 78,
   "id": "f1396c49",
   "metadata": {},
   "outputs": [],
   "source": [
    "# without FinerLineNumber\n",
    "\n",
    "X2=X.drop(['ScanCount'],axis=1)\n",
    "X2.drop(['FinelineNumber'],axis=1,inplace=True)\n"
   ]
  },
  {
   "cell_type": "code",
   "execution_count": 81,
   "id": "48c530ab",
   "metadata": {},
   "outputs": [],
   "source": [
    "from sklearn.preprocessing import StandardScaler"
   ]
  },
  {
   "cell_type": "code",
   "execution_count": 82,
   "id": "18661f09",
   "metadata": {},
   "outputs": [
    {
     "data": {
      "text/plain": [
       "array([[-1.75361189, -1.48856214, -0.57735119,  1.87831278],\n",
       "       [-1.75361189, -1.48856214,  1.69006226,  0.03392691],\n",
       "       [-1.75346812, -1.48856214,  0.36740441, -1.30123945],\n",
       "       ...,\n",
       "       [ 1.684706  ,  0.07941526,  0.05248588, -1.3781641 ],\n",
       "       [ 1.684706  ,  0.07941526,  0.68232295, -0.39295073],\n",
       "       [ 1.684706  ,  0.07941526,  0.68232295,  0.47272245]])"
      ]
     },
     "execution_count": 82,
     "metadata": {},
     "output_type": "execute_result"
    }
   ],
   "source": [
    "ss = StandardScaler()\n",
    "ft_X1 = ss.fit_transform(X1)\n",
    "ft_X1"
   ]
  },
  {
   "cell_type": "code",
   "execution_count": 140,
   "id": "3629d450",
   "metadata": {},
   "outputs": [
    {
     "data": {
      "text/plain": [
       "array([[-1.75361189, -1.48856214, -0.28864026, -0.57735119],\n",
       "       [-1.75361189, -1.48856214,  0.14021923,  1.69006226],\n",
       "       [-1.75346812, -1.48856214,  5.85947222,  0.36740441],\n",
       "       ...,\n",
       "       [ 1.684706  ,  0.07941526, -0.31533581,  0.05248588],\n",
       "       [ 1.684706  ,  0.07941526,  0.28642666,  0.68232295],\n",
       "       [ 1.684706  ,  0.07941526,  0.28545234,  0.68232295]])"
      ]
     },
     "execution_count": 140,
     "metadata": {},
     "output_type": "execute_result"
    }
   ],
   "source": [
    "ss = StandardScaler()\n",
    "ft_X2 = ss.fit_transform(X2)\n",
    "ft_X2"
   ]
  },
  {
   "cell_type": "code",
   "execution_count": 84,
   "id": "032d532c",
   "metadata": {},
   "outputs": [],
   "source": [
    "# Divide data into test and train\n",
    "from sklearn.model_selection import train_test_split"
   ]
  },
  {
   "cell_type": "code",
   "execution_count": 86,
   "id": "4b3f08a9",
   "metadata": {},
   "outputs": [],
   "source": [
    "x1train, x1test, y1train, y1test = train_test_split(X1,Y,test_size = 0.20, random_state = 40)"
   ]
  },
  {
   "cell_type": "code",
   "execution_count": 87,
   "id": "6425a0ec",
   "metadata": {},
   "outputs": [],
   "source": [
    "x2train, x2test, y2train, y2test = train_test_split(X2,Y,test_size = 0.20, random_state = 40)"
   ]
  },
  {
   "cell_type": "code",
   "execution_count": 88,
   "id": "9cec24ac",
   "metadata": {},
   "outputs": [
    {
     "data": {
      "text/plain": [
       "((61748, 4), (15438, 4), (61748,), (15438,))"
      ]
     },
     "execution_count": 88,
     "metadata": {},
     "output_type": "execute_result"
    }
   ],
   "source": [
    "x1train.shape, x1test.shape, y1train.shape, y1test.shape"
   ]
  },
  {
   "cell_type": "code",
   "execution_count": 89,
   "id": "c4b9a110",
   "metadata": {},
   "outputs": [
    {
     "data": {
      "text/plain": [
       "((61748, 4), (15438, 4), (61748,), (15438,))"
      ]
     },
     "execution_count": 89,
     "metadata": {},
     "output_type": "execute_result"
    }
   ],
   "source": [
    "x2train.shape, x2test.shape, y2train.shape, y2test.shape"
   ]
  },
  {
   "cell_type": "code",
   "execution_count": 90,
   "id": "ba5841b9",
   "metadata": {},
   "outputs": [],
   "source": [
    "from sklearn.linear_model import LogisticRegression"
   ]
  },
  {
   "cell_type": "code",
   "execution_count": 100,
   "id": "c9282f42",
   "metadata": {},
   "outputs": [
    {
     "data": {
      "text/html": [
       "<style>#sk-container-id-2 {color: black;}#sk-container-id-2 pre{padding: 0;}#sk-container-id-2 div.sk-toggleable {background-color: white;}#sk-container-id-2 label.sk-toggleable__label {cursor: pointer;display: block;width: 100%;margin-bottom: 0;padding: 0.3em;box-sizing: border-box;text-align: center;}#sk-container-id-2 label.sk-toggleable__label-arrow:before {content: \"▸\";float: left;margin-right: 0.25em;color: #696969;}#sk-container-id-2 label.sk-toggleable__label-arrow:hover:before {color: black;}#sk-container-id-2 div.sk-estimator:hover label.sk-toggleable__label-arrow:before {color: black;}#sk-container-id-2 div.sk-toggleable__content {max-height: 0;max-width: 0;overflow: hidden;text-align: left;background-color: #f0f8ff;}#sk-container-id-2 div.sk-toggleable__content pre {margin: 0.2em;color: black;border-radius: 0.25em;background-color: #f0f8ff;}#sk-container-id-2 input.sk-toggleable__control:checked~div.sk-toggleable__content {max-height: 200px;max-width: 100%;overflow: auto;}#sk-container-id-2 input.sk-toggleable__control:checked~label.sk-toggleable__label-arrow:before {content: \"▾\";}#sk-container-id-2 div.sk-estimator input.sk-toggleable__control:checked~label.sk-toggleable__label {background-color: #d4ebff;}#sk-container-id-2 div.sk-label input.sk-toggleable__control:checked~label.sk-toggleable__label {background-color: #d4ebff;}#sk-container-id-2 input.sk-hidden--visually {border: 0;clip: rect(1px 1px 1px 1px);clip: rect(1px, 1px, 1px, 1px);height: 1px;margin: -1px;overflow: hidden;padding: 0;position: absolute;width: 1px;}#sk-container-id-2 div.sk-estimator {font-family: monospace;background-color: #f0f8ff;border: 1px dotted black;border-radius: 0.25em;box-sizing: border-box;margin-bottom: 0.5em;}#sk-container-id-2 div.sk-estimator:hover {background-color: #d4ebff;}#sk-container-id-2 div.sk-parallel-item::after {content: \"\";width: 100%;border-bottom: 1px solid gray;flex-grow: 1;}#sk-container-id-2 div.sk-label:hover label.sk-toggleable__label {background-color: #d4ebff;}#sk-container-id-2 div.sk-serial::before {content: \"\";position: absolute;border-left: 1px solid gray;box-sizing: border-box;top: 0;bottom: 0;left: 50%;z-index: 0;}#sk-container-id-2 div.sk-serial {display: flex;flex-direction: column;align-items: center;background-color: white;padding-right: 0.2em;padding-left: 0.2em;position: relative;}#sk-container-id-2 div.sk-item {position: relative;z-index: 1;}#sk-container-id-2 div.sk-parallel {display: flex;align-items: stretch;justify-content: center;background-color: white;position: relative;}#sk-container-id-2 div.sk-item::before, #sk-container-id-2 div.sk-parallel-item::before {content: \"\";position: absolute;border-left: 1px solid gray;box-sizing: border-box;top: 0;bottom: 0;left: 50%;z-index: -1;}#sk-container-id-2 div.sk-parallel-item {display: flex;flex-direction: column;z-index: 1;position: relative;background-color: white;}#sk-container-id-2 div.sk-parallel-item:first-child::after {align-self: flex-end;width: 50%;}#sk-container-id-2 div.sk-parallel-item:last-child::after {align-self: flex-start;width: 50%;}#sk-container-id-2 div.sk-parallel-item:only-child::after {width: 0;}#sk-container-id-2 div.sk-dashed-wrapped {border: 1px dashed gray;margin: 0 0.4em 0.5em 0.4em;box-sizing: border-box;padding-bottom: 0.4em;background-color: white;}#sk-container-id-2 div.sk-label label {font-family: monospace;font-weight: bold;display: inline-block;line-height: 1.2em;}#sk-container-id-2 div.sk-label-container {text-align: center;}#sk-container-id-2 div.sk-container {/* jupyter's `normalize.less` sets `[hidden] { display: none; }` but bootstrap.min.css set `[hidden] { display: none !important; }` so we also need the `!important` here to be able to override the default hidden behavior on the sphinx rendered scikit-learn.org. See: https://github.com/scikit-learn/scikit-learn/issues/21755 */display: inline-block !important;position: relative;}#sk-container-id-2 div.sk-text-repr-fallback {display: none;}</style><div id=\"sk-container-id-2\" class=\"sk-top-container\"><div class=\"sk-text-repr-fallback\"><pre>LogisticRegression()</pre><b>In a Jupyter environment, please rerun this cell to show the HTML representation or trust the notebook. <br />On GitHub, the HTML representation is unable to render, please try loading this page with nbviewer.org.</b></div><div class=\"sk-container\" hidden><div class=\"sk-item\"><div class=\"sk-estimator sk-toggleable\"><input class=\"sk-toggleable__control sk-hidden--visually\" id=\"sk-estimator-id-2\" type=\"checkbox\" checked><label for=\"sk-estimator-id-2\" class=\"sk-toggleable__label sk-toggleable__label-arrow\">LogisticRegression</label><div class=\"sk-toggleable__content\"><pre>LogisticRegression()</pre></div></div></div></div></div>"
      ],
      "text/plain": [
       "LogisticRegression()"
      ]
     },
     "execution_count": 100,
     "metadata": {},
     "output_type": "execute_result"
    }
   ],
   "source": [
    "lr_m1 = LogisticRegression()\n",
    "lr_m1.fit(x1train,y1train)"
   ]
  },
  {
   "cell_type": "code",
   "execution_count": 108,
   "id": "69622da3",
   "metadata": {},
   "outputs": [
    {
     "data": {
      "text/plain": [
       "array([2, 1, 0, ..., 2, 2, 2], dtype=int64)"
      ]
     },
     "execution_count": 108,
     "metadata": {},
     "output_type": "execute_result"
    }
   ],
   "source": [
    "pred_lr = lr_m1.predict(x1test)\n",
    "pred_lr"
   ]
  },
  {
   "cell_type": "code",
   "execution_count": 110,
   "id": "821921a9",
   "metadata": {},
   "outputs": [],
   "source": [
    "from sklearn.metrics import accuracy_score, classification_report"
   ]
  },
  {
   "cell_type": "code",
   "execution_count": 104,
   "id": "29f80e87",
   "metadata": {},
   "outputs": [
    {
     "data": {
      "text/plain": [
       "0.46936131623267263"
      ]
     },
     "execution_count": 104,
     "metadata": {},
     "output_type": "execute_result"
    }
   ],
   "source": [
    "accuracy_score(y1test,pred_lr)"
   ]
  },
  {
   "cell_type": "code",
   "execution_count": 111,
   "id": "f4954d9c",
   "metadata": {},
   "outputs": [
    {
     "name": "stdout",
     "output_type": "stream",
     "text": [
      "              precision    recall  f1-score   support\n",
      "\n",
      "           0       0.40      0.31      0.35      4408\n",
      "           1       0.50      0.54      0.52      5317\n",
      "           2       0.48      0.52      0.50      5713\n",
      "\n",
      "    accuracy                           0.47     15438\n",
      "   macro avg       0.46      0.46      0.46     15438\n",
      "weighted avg       0.46      0.47      0.46     15438\n",
      "\n"
     ]
    }
   ],
   "source": [
    "print(classification_report(y1test,pred_lr))"
   ]
  },
  {
   "cell_type": "code",
   "execution_count": 116,
   "id": "bb91fe5c",
   "metadata": {},
   "outputs": [
    {
     "data": {
      "text/html": [
       "<style>#sk-container-id-4 {color: black;}#sk-container-id-4 pre{padding: 0;}#sk-container-id-4 div.sk-toggleable {background-color: white;}#sk-container-id-4 label.sk-toggleable__label {cursor: pointer;display: block;width: 100%;margin-bottom: 0;padding: 0.3em;box-sizing: border-box;text-align: center;}#sk-container-id-4 label.sk-toggleable__label-arrow:before {content: \"▸\";float: left;margin-right: 0.25em;color: #696969;}#sk-container-id-4 label.sk-toggleable__label-arrow:hover:before {color: black;}#sk-container-id-4 div.sk-estimator:hover label.sk-toggleable__label-arrow:before {color: black;}#sk-container-id-4 div.sk-toggleable__content {max-height: 0;max-width: 0;overflow: hidden;text-align: left;background-color: #f0f8ff;}#sk-container-id-4 div.sk-toggleable__content pre {margin: 0.2em;color: black;border-radius: 0.25em;background-color: #f0f8ff;}#sk-container-id-4 input.sk-toggleable__control:checked~div.sk-toggleable__content {max-height: 200px;max-width: 100%;overflow: auto;}#sk-container-id-4 input.sk-toggleable__control:checked~label.sk-toggleable__label-arrow:before {content: \"▾\";}#sk-container-id-4 div.sk-estimator input.sk-toggleable__control:checked~label.sk-toggleable__label {background-color: #d4ebff;}#sk-container-id-4 div.sk-label input.sk-toggleable__control:checked~label.sk-toggleable__label {background-color: #d4ebff;}#sk-container-id-4 input.sk-hidden--visually {border: 0;clip: rect(1px 1px 1px 1px);clip: rect(1px, 1px, 1px, 1px);height: 1px;margin: -1px;overflow: hidden;padding: 0;position: absolute;width: 1px;}#sk-container-id-4 div.sk-estimator {font-family: monospace;background-color: #f0f8ff;border: 1px dotted black;border-radius: 0.25em;box-sizing: border-box;margin-bottom: 0.5em;}#sk-container-id-4 div.sk-estimator:hover {background-color: #d4ebff;}#sk-container-id-4 div.sk-parallel-item::after {content: \"\";width: 100%;border-bottom: 1px solid gray;flex-grow: 1;}#sk-container-id-4 div.sk-label:hover label.sk-toggleable__label {background-color: #d4ebff;}#sk-container-id-4 div.sk-serial::before {content: \"\";position: absolute;border-left: 1px solid gray;box-sizing: border-box;top: 0;bottom: 0;left: 50%;z-index: 0;}#sk-container-id-4 div.sk-serial {display: flex;flex-direction: column;align-items: center;background-color: white;padding-right: 0.2em;padding-left: 0.2em;position: relative;}#sk-container-id-4 div.sk-item {position: relative;z-index: 1;}#sk-container-id-4 div.sk-parallel {display: flex;align-items: stretch;justify-content: center;background-color: white;position: relative;}#sk-container-id-4 div.sk-item::before, #sk-container-id-4 div.sk-parallel-item::before {content: \"\";position: absolute;border-left: 1px solid gray;box-sizing: border-box;top: 0;bottom: 0;left: 50%;z-index: -1;}#sk-container-id-4 div.sk-parallel-item {display: flex;flex-direction: column;z-index: 1;position: relative;background-color: white;}#sk-container-id-4 div.sk-parallel-item:first-child::after {align-self: flex-end;width: 50%;}#sk-container-id-4 div.sk-parallel-item:last-child::after {align-self: flex-start;width: 50%;}#sk-container-id-4 div.sk-parallel-item:only-child::after {width: 0;}#sk-container-id-4 div.sk-dashed-wrapped {border: 1px dashed gray;margin: 0 0.4em 0.5em 0.4em;box-sizing: border-box;padding-bottom: 0.4em;background-color: white;}#sk-container-id-4 div.sk-label label {font-family: monospace;font-weight: bold;display: inline-block;line-height: 1.2em;}#sk-container-id-4 div.sk-label-container {text-align: center;}#sk-container-id-4 div.sk-container {/* jupyter's `normalize.less` sets `[hidden] { display: none; }` but bootstrap.min.css set `[hidden] { display: none !important; }` so we also need the `!important` here to be able to override the default hidden behavior on the sphinx rendered scikit-learn.org. See: https://github.com/scikit-learn/scikit-learn/issues/21755 */display: inline-block !important;position: relative;}#sk-container-id-4 div.sk-text-repr-fallback {display: none;}</style><div id=\"sk-container-id-4\" class=\"sk-top-container\"><div class=\"sk-text-repr-fallback\"><pre>LogisticRegression()</pre><b>In a Jupyter environment, please rerun this cell to show the HTML representation or trust the notebook. <br />On GitHub, the HTML representation is unable to render, please try loading this page with nbviewer.org.</b></div><div class=\"sk-container\" hidden><div class=\"sk-item\"><div class=\"sk-estimator sk-toggleable\"><input class=\"sk-toggleable__control sk-hidden--visually\" id=\"sk-estimator-id-4\" type=\"checkbox\" checked><label for=\"sk-estimator-id-4\" class=\"sk-toggleable__label sk-toggleable__label-arrow\">LogisticRegression</label><div class=\"sk-toggleable__content\"><pre>LogisticRegression()</pre></div></div></div></div></div>"
      ],
      "text/plain": [
       "LogisticRegression()"
      ]
     },
     "execution_count": 116,
     "metadata": {},
     "output_type": "execute_result"
    }
   ],
   "source": [
    "lr_m2 = LogisticRegression()\n",
    "lr_m2.fit(x2train,y2train)"
   ]
  },
  {
   "cell_type": "code",
   "execution_count": 117,
   "id": "263a0c3e",
   "metadata": {},
   "outputs": [
    {
     "data": {
      "text/plain": [
       "array([1, 1, 1, ..., 1, 1, 1], dtype=int64)"
      ]
     },
     "execution_count": 117,
     "metadata": {},
     "output_type": "execute_result"
    }
   ],
   "source": [
    "pred_lr2 = lr_m2.predict(x2test)\n",
    "pred_lr2"
   ]
  },
  {
   "cell_type": "code",
   "execution_count": 118,
   "id": "c537a908",
   "metadata": {},
   "outputs": [
    {
     "data": {
      "text/plain": [
       "0.3444098976551367"
      ]
     },
     "execution_count": 118,
     "metadata": {},
     "output_type": "execute_result"
    }
   ],
   "source": [
    "accuracy_score(y2test,pred_lr2)"
   ]
  },
  {
   "cell_type": "code",
   "execution_count": 99,
   "id": "4604ed38",
   "metadata": {},
   "outputs": [],
   "source": [
    "# select library\n",
    "from sklearn.tree import DecisionTreeClassifier\n",
    "from sklearn.ensemble import RandomForestClassifier"
   ]
  },
  {
   "cell_type": "code",
   "execution_count": 106,
   "id": "6c106de8",
   "metadata": {},
   "outputs": [],
   "source": [
    "#initialize function\n",
    "dt_m1 = DecisionTreeClassifier()\n",
    "rf_m1 = RandomForestClassifier()"
   ]
  },
  {
   "cell_type": "code",
   "execution_count": 107,
   "id": "c590bd8a",
   "metadata": {},
   "outputs": [
    {
     "data": {
      "text/html": [
       "<style>#sk-container-id-3 {color: black;}#sk-container-id-3 pre{padding: 0;}#sk-container-id-3 div.sk-toggleable {background-color: white;}#sk-container-id-3 label.sk-toggleable__label {cursor: pointer;display: block;width: 100%;margin-bottom: 0;padding: 0.3em;box-sizing: border-box;text-align: center;}#sk-container-id-3 label.sk-toggleable__label-arrow:before {content: \"▸\";float: left;margin-right: 0.25em;color: #696969;}#sk-container-id-3 label.sk-toggleable__label-arrow:hover:before {color: black;}#sk-container-id-3 div.sk-estimator:hover label.sk-toggleable__label-arrow:before {color: black;}#sk-container-id-3 div.sk-toggleable__content {max-height: 0;max-width: 0;overflow: hidden;text-align: left;background-color: #f0f8ff;}#sk-container-id-3 div.sk-toggleable__content pre {margin: 0.2em;color: black;border-radius: 0.25em;background-color: #f0f8ff;}#sk-container-id-3 input.sk-toggleable__control:checked~div.sk-toggleable__content {max-height: 200px;max-width: 100%;overflow: auto;}#sk-container-id-3 input.sk-toggleable__control:checked~label.sk-toggleable__label-arrow:before {content: \"▾\";}#sk-container-id-3 div.sk-estimator input.sk-toggleable__control:checked~label.sk-toggleable__label {background-color: #d4ebff;}#sk-container-id-3 div.sk-label input.sk-toggleable__control:checked~label.sk-toggleable__label {background-color: #d4ebff;}#sk-container-id-3 input.sk-hidden--visually {border: 0;clip: rect(1px 1px 1px 1px);clip: rect(1px, 1px, 1px, 1px);height: 1px;margin: -1px;overflow: hidden;padding: 0;position: absolute;width: 1px;}#sk-container-id-3 div.sk-estimator {font-family: monospace;background-color: #f0f8ff;border: 1px dotted black;border-radius: 0.25em;box-sizing: border-box;margin-bottom: 0.5em;}#sk-container-id-3 div.sk-estimator:hover {background-color: #d4ebff;}#sk-container-id-3 div.sk-parallel-item::after {content: \"\";width: 100%;border-bottom: 1px solid gray;flex-grow: 1;}#sk-container-id-3 div.sk-label:hover label.sk-toggleable__label {background-color: #d4ebff;}#sk-container-id-3 div.sk-serial::before {content: \"\";position: absolute;border-left: 1px solid gray;box-sizing: border-box;top: 0;bottom: 0;left: 50%;z-index: 0;}#sk-container-id-3 div.sk-serial {display: flex;flex-direction: column;align-items: center;background-color: white;padding-right: 0.2em;padding-left: 0.2em;position: relative;}#sk-container-id-3 div.sk-item {position: relative;z-index: 1;}#sk-container-id-3 div.sk-parallel {display: flex;align-items: stretch;justify-content: center;background-color: white;position: relative;}#sk-container-id-3 div.sk-item::before, #sk-container-id-3 div.sk-parallel-item::before {content: \"\";position: absolute;border-left: 1px solid gray;box-sizing: border-box;top: 0;bottom: 0;left: 50%;z-index: -1;}#sk-container-id-3 div.sk-parallel-item {display: flex;flex-direction: column;z-index: 1;position: relative;background-color: white;}#sk-container-id-3 div.sk-parallel-item:first-child::after {align-self: flex-end;width: 50%;}#sk-container-id-3 div.sk-parallel-item:last-child::after {align-self: flex-start;width: 50%;}#sk-container-id-3 div.sk-parallel-item:only-child::after {width: 0;}#sk-container-id-3 div.sk-dashed-wrapped {border: 1px dashed gray;margin: 0 0.4em 0.5em 0.4em;box-sizing: border-box;padding-bottom: 0.4em;background-color: white;}#sk-container-id-3 div.sk-label label {font-family: monospace;font-weight: bold;display: inline-block;line-height: 1.2em;}#sk-container-id-3 div.sk-label-container {text-align: center;}#sk-container-id-3 div.sk-container {/* jupyter's `normalize.less` sets `[hidden] { display: none; }` but bootstrap.min.css set `[hidden] { display: none !important; }` so we also need the `!important` here to be able to override the default hidden behavior on the sphinx rendered scikit-learn.org. See: https://github.com/scikit-learn/scikit-learn/issues/21755 */display: inline-block !important;position: relative;}#sk-container-id-3 div.sk-text-repr-fallback {display: none;}</style><div id=\"sk-container-id-3\" class=\"sk-top-container\"><div class=\"sk-text-repr-fallback\"><pre>RandomForestClassifier()</pre><b>In a Jupyter environment, please rerun this cell to show the HTML representation or trust the notebook. <br />On GitHub, the HTML representation is unable to render, please try loading this page with nbviewer.org.</b></div><div class=\"sk-container\" hidden><div class=\"sk-item\"><div class=\"sk-estimator sk-toggleable\"><input class=\"sk-toggleable__control sk-hidden--visually\" id=\"sk-estimator-id-3\" type=\"checkbox\" checked><label for=\"sk-estimator-id-3\" class=\"sk-toggleable__label sk-toggleable__label-arrow\">RandomForestClassifier</label><div class=\"sk-toggleable__content\"><pre>RandomForestClassifier()</pre></div></div></div></div></div>"
      ],
      "text/plain": [
       "RandomForestClassifier()"
      ]
     },
     "execution_count": 107,
     "metadata": {},
     "output_type": "execute_result"
    }
   ],
   "source": [
    "#Train Model\n",
    "dt_m1.fit(x1train,y1train)\n",
    "rf_m1.fit(x1train,y1train)"
   ]
  },
  {
   "cell_type": "code",
   "execution_count": 112,
   "id": "2f98979c",
   "metadata": {},
   "outputs": [
    {
     "data": {
      "text/plain": [
       "array([1, 2, 2, ..., 0, 2, 0], dtype=int64)"
      ]
     },
     "execution_count": 112,
     "metadata": {},
     "output_type": "execute_result"
    }
   ],
   "source": [
    "#Generate prediction\n",
    "pred_dt = dt_m1.predict(x1test)\n",
    "pred_dt"
   ]
  },
  {
   "cell_type": "code",
   "execution_count": 113,
   "id": "ede68cd5",
   "metadata": {},
   "outputs": [
    {
     "data": {
      "text/plain": [
       "array([1, 2, 2, ..., 0, 2, 2], dtype=int64)"
      ]
     },
     "execution_count": 113,
     "metadata": {},
     "output_type": "execute_result"
    }
   ],
   "source": [
    "#Generate prediction\n",
    "pred_rf = rf_m1.predict(x1test)\n",
    "pred_rf"
   ]
  },
  {
   "cell_type": "code",
   "execution_count": 114,
   "id": "918ee11d",
   "metadata": {},
   "outputs": [
    {
     "data": {
      "text/plain": [
       "0.7170617955693742"
      ]
     },
     "execution_count": 114,
     "metadata": {},
     "output_type": "execute_result"
    }
   ],
   "source": [
    "accuracy_score(y1test,pred_dt)"
   ]
  },
  {
   "cell_type": "code",
   "execution_count": 115,
   "id": "21a75c29",
   "metadata": {},
   "outputs": [
    {
     "data": {
      "text/plain": [
       "0.7453037958284752"
      ]
     },
     "execution_count": 115,
     "metadata": {},
     "output_type": "execute_result"
    }
   ],
   "source": [
    "accuracy_score(y1test,pred_rf)"
   ]
  },
  {
   "cell_type": "code",
   "execution_count": 119,
   "id": "a115a873",
   "metadata": {},
   "outputs": [],
   "source": [
    "#Predict Label for test data."
   ]
  },
  {
   "cell_type": "code",
   "execution_count": 120,
   "id": "30ae1f91",
   "metadata": {},
   "outputs": [],
   "source": [
    "df_test = pd.read_csv(r'C:\\Apurva\\Data Analytics program\\Capstone project\\testdata.csv')"
   ]
  },
  {
   "cell_type": "code",
   "execution_count": 124,
   "id": "b38abd80",
   "metadata": {},
   "outputs": [
    {
     "data": {
      "text/html": [
       "<div>\n",
       "<style scoped>\n",
       "    .dataframe tbody tr th:only-of-type {\n",
       "        vertical-align: middle;\n",
       "    }\n",
       "\n",
       "    .dataframe tbody tr th {\n",
       "        vertical-align: top;\n",
       "    }\n",
       "\n",
       "    .dataframe thead th {\n",
       "        text-align: right;\n",
       "    }\n",
       "</style>\n",
       "<table border=\"1\" class=\"dataframe\">\n",
       "  <thead>\n",
       "    <tr style=\"text-align: right;\">\n",
       "      <th></th>\n",
       "      <th>VisitNumber</th>\n",
       "      <th>Weekday</th>\n",
       "      <th>Upc</th>\n",
       "      <th>ScanCount</th>\n",
       "      <th>DepartmentDescription</th>\n",
       "      <th>FinelineNumber</th>\n",
       "    </tr>\n",
       "  </thead>\n",
       "  <tbody>\n",
       "    <tr>\n",
       "      <th>0</th>\n",
       "      <td>87</td>\n",
       "      <td>Friday</td>\n",
       "      <td>7.106841e+09</td>\n",
       "      <td>1</td>\n",
       "      <td>FROZEN FOODS</td>\n",
       "      <td>4063</td>\n",
       "    </tr>\n",
       "    <tr>\n",
       "      <th>1</th>\n",
       "      <td>361</td>\n",
       "      <td>Friday</td>\n",
       "      <td>6.727878e+10</td>\n",
       "      <td>1</td>\n",
       "      <td>MENS WEAR</td>\n",
       "      <td>1605</td>\n",
       "    </tr>\n",
       "    <tr>\n",
       "      <th>2</th>\n",
       "      <td>385</td>\n",
       "      <td>Friday</td>\n",
       "      <td>2.840007e+09</td>\n",
       "      <td>1</td>\n",
       "      <td>DSD GROCERY</td>\n",
       "      <td>4551</td>\n",
       "    </tr>\n",
       "    <tr>\n",
       "      <th>3</th>\n",
       "      <td>413</td>\n",
       "      <td>Friday</td>\n",
       "      <td>2.200000e+09</td>\n",
       "      <td>1</td>\n",
       "      <td>IMPULSE MERCHANDISE</td>\n",
       "      <td>135</td>\n",
       "    </tr>\n",
       "    <tr>\n",
       "      <th>4</th>\n",
       "      <td>462</td>\n",
       "      <td>Friday</td>\n",
       "      <td>7.282133e+10</td>\n",
       "      <td>1</td>\n",
       "      <td>PLUS AND MATERNITY</td>\n",
       "      <td>744</td>\n",
       "    </tr>\n",
       "  </tbody>\n",
       "</table>\n",
       "</div>"
      ],
      "text/plain": [
       "   VisitNumber Weekday           Upc  ScanCount DepartmentDescription  \\\n",
       "0           87  Friday  7.106841e+09          1          FROZEN FOODS   \n",
       "1          361  Friday  6.727878e+10          1             MENS WEAR   \n",
       "2          385  Friday  2.840007e+09          1           DSD GROCERY   \n",
       "3          413  Friday  2.200000e+09          1   IMPULSE MERCHANDISE   \n",
       "4          462  Friday  7.282133e+10          1    PLUS AND MATERNITY   \n",
       "\n",
       "   FinelineNumber  \n",
       "0            4063  \n",
       "1            1605  \n",
       "2            4551  \n",
       "3             135  \n",
       "4             744  "
      ]
     },
     "execution_count": 124,
     "metadata": {},
     "output_type": "execute_result"
    }
   ],
   "source": [
    "df_test.head()"
   ]
  },
  {
   "cell_type": "code",
   "execution_count": 125,
   "id": "f2481904",
   "metadata": {},
   "outputs": [
    {
     "data": {
      "text/plain": [
       "VisitNumber              0\n",
       "Weekday                  0\n",
       "Upc                      0\n",
       "ScanCount                0\n",
       "DepartmentDescription    0\n",
       "FinelineNumber           0\n",
       "dtype: int64"
      ]
     },
     "execution_count": 125,
     "metadata": {},
     "output_type": "execute_result"
    }
   ],
   "source": [
    "df_test.isnull().sum()"
   ]
  },
  {
   "cell_type": "code",
   "execution_count": 128,
   "id": "e03bfaa4",
   "metadata": {},
   "outputs": [],
   "source": [
    "le = LabelEncoder()\n",
    "df_test['Weekday'] = le.fit_transform(df_test['Weekday'])\n",
    "df_test['DepartmentDescription'] = le.fit_transform(df_test['DepartmentDescription'])"
   ]
  },
  {
   "cell_type": "code",
   "execution_count": 129,
   "id": "38e0b4d5",
   "metadata": {},
   "outputs": [
    {
     "data": {
      "text/html": [
       "<div>\n",
       "<style scoped>\n",
       "    .dataframe tbody tr th:only-of-type {\n",
       "        vertical-align: middle;\n",
       "    }\n",
       "\n",
       "    .dataframe tbody tr th {\n",
       "        vertical-align: top;\n",
       "    }\n",
       "\n",
       "    .dataframe thead th {\n",
       "        text-align: right;\n",
       "    }\n",
       "</style>\n",
       "<table border=\"1\" class=\"dataframe\">\n",
       "  <thead>\n",
       "    <tr style=\"text-align: right;\">\n",
       "      <th></th>\n",
       "      <th>VisitNumber</th>\n",
       "      <th>Weekday</th>\n",
       "      <th>Upc</th>\n",
       "      <th>ScanCount</th>\n",
       "      <th>DepartmentDescription</th>\n",
       "      <th>FinelineNumber</th>\n",
       "    </tr>\n",
       "  </thead>\n",
       "  <tbody>\n",
       "    <tr>\n",
       "      <th>0</th>\n",
       "      <td>87</td>\n",
       "      <td>0</td>\n",
       "      <td>7.106841e+09</td>\n",
       "      <td>1</td>\n",
       "      <td>18</td>\n",
       "      <td>4063</td>\n",
       "    </tr>\n",
       "    <tr>\n",
       "      <th>1</th>\n",
       "      <td>361</td>\n",
       "      <td>0</td>\n",
       "      <td>6.727878e+10</td>\n",
       "      <td>1</td>\n",
       "      <td>37</td>\n",
       "      <td>1605</td>\n",
       "    </tr>\n",
       "    <tr>\n",
       "      <th>2</th>\n",
       "      <td>385</td>\n",
       "      <td>0</td>\n",
       "      <td>2.840007e+09</td>\n",
       "      <td>1</td>\n",
       "      <td>14</td>\n",
       "      <td>4551</td>\n",
       "    </tr>\n",
       "    <tr>\n",
       "      <th>3</th>\n",
       "      <td>413</td>\n",
       "      <td>0</td>\n",
       "      <td>2.200000e+09</td>\n",
       "      <td>1</td>\n",
       "      <td>27</td>\n",
       "      <td>135</td>\n",
       "    </tr>\n",
       "    <tr>\n",
       "      <th>4</th>\n",
       "      <td>462</td>\n",
       "      <td>0</td>\n",
       "      <td>7.282133e+10</td>\n",
       "      <td>1</td>\n",
       "      <td>45</td>\n",
       "      <td>744</td>\n",
       "    </tr>\n",
       "  </tbody>\n",
       "</table>\n",
       "</div>"
      ],
      "text/plain": [
       "   VisitNumber  Weekday           Upc  ScanCount  DepartmentDescription  \\\n",
       "0           87        0  7.106841e+09          1                     18   \n",
       "1          361        0  6.727878e+10          1                     37   \n",
       "2          385        0  2.840007e+09          1                     14   \n",
       "3          413        0  2.200000e+09          1                     27   \n",
       "4          462        0  7.282133e+10          1                     45   \n",
       "\n",
       "   FinelineNumber  \n",
       "0            4063  \n",
       "1            1605  \n",
       "2            4551  \n",
       "3             135  \n",
       "4             744  "
      ]
     },
     "execution_count": 129,
     "metadata": {},
     "output_type": "execute_result"
    }
   ],
   "source": [
    "df_test.head()"
   ]
  },
  {
   "cell_type": "code",
   "execution_count": 155,
   "id": "f327d0da",
   "metadata": {},
   "outputs": [],
   "source": [
    "# without Upc\n",
    "\n",
    "X_test=df_test.drop(['ScanCount'],axis=1)\n",
    "X_test.drop(['Upc'],axis=1,inplace=True)\n"
   ]
  },
  {
   "cell_type": "code",
   "execution_count": 156,
   "id": "e63183bc",
   "metadata": {},
   "outputs": [
    {
     "data": {
      "text/html": [
       "<div>\n",
       "<style scoped>\n",
       "    .dataframe tbody tr th:only-of-type {\n",
       "        vertical-align: middle;\n",
       "    }\n",
       "\n",
       "    .dataframe tbody tr th {\n",
       "        vertical-align: top;\n",
       "    }\n",
       "\n",
       "    .dataframe thead th {\n",
       "        text-align: right;\n",
       "    }\n",
       "</style>\n",
       "<table border=\"1\" class=\"dataframe\">\n",
       "  <thead>\n",
       "    <tr style=\"text-align: right;\">\n",
       "      <th></th>\n",
       "      <th>VisitNumber</th>\n",
       "      <th>Weekday</th>\n",
       "      <th>DepartmentDescription</th>\n",
       "      <th>FinelineNumber</th>\n",
       "    </tr>\n",
       "  </thead>\n",
       "  <tbody>\n",
       "    <tr>\n",
       "      <th>0</th>\n",
       "      <td>87</td>\n",
       "      <td>0</td>\n",
       "      <td>18</td>\n",
       "      <td>4063</td>\n",
       "    </tr>\n",
       "    <tr>\n",
       "      <th>1</th>\n",
       "      <td>361</td>\n",
       "      <td>0</td>\n",
       "      <td>37</td>\n",
       "      <td>1605</td>\n",
       "    </tr>\n",
       "    <tr>\n",
       "      <th>2</th>\n",
       "      <td>385</td>\n",
       "      <td>0</td>\n",
       "      <td>14</td>\n",
       "      <td>4551</td>\n",
       "    </tr>\n",
       "    <tr>\n",
       "      <th>3</th>\n",
       "      <td>413</td>\n",
       "      <td>0</td>\n",
       "      <td>27</td>\n",
       "      <td>135</td>\n",
       "    </tr>\n",
       "    <tr>\n",
       "      <th>4</th>\n",
       "      <td>462</td>\n",
       "      <td>0</td>\n",
       "      <td>45</td>\n",
       "      <td>744</td>\n",
       "    </tr>\n",
       "  </tbody>\n",
       "</table>\n",
       "</div>"
      ],
      "text/plain": [
       "   VisitNumber  Weekday  DepartmentDescription  FinelineNumber\n",
       "0           87        0                     18            4063\n",
       "1          361        0                     37            1605\n",
       "2          385        0                     14            4551\n",
       "3          413        0                     27             135\n",
       "4          462        0                     45             744"
      ]
     },
     "execution_count": 156,
     "metadata": {},
     "output_type": "execute_result"
    }
   ],
   "source": [
    "X_test.head()"
   ]
  },
  {
   "cell_type": "code",
   "execution_count": 157,
   "id": "b1076092",
   "metadata": {},
   "outputs": [
    {
     "data": {
      "text/plain": [
       "array([[-1.7471435 , -1.43075639, -0.54702728,  0.04893194],\n",
       "       [-1.74223949, -1.43075639,  0.74903037, -0.82499866],\n",
       "       [-1.74180995, -1.43075639, -0.81988152,  0.22243809],\n",
       "       ...,\n",
       "       [ 1.67381446,  0.11341048, -0.88809508, -0.917796  ],\n",
       "       [ 1.6743693 ,  0.11341048,  0.74903037,  0.57478358],\n",
       "       [ 1.67581902,  0.11341048,  0.61260325, -0.93308446]])"
      ]
     },
     "execution_count": 157,
     "metadata": {},
     "output_type": "execute_result"
    }
   ],
   "source": [
    "ss = StandardScaler()\n",
    "ft_X_test = ss.fit_transform(X_test)\n",
    "ft_X_test\n"
   ]
  },
  {
   "cell_type": "code",
   "execution_count": 184,
   "id": "395217d7",
   "metadata": {},
   "outputs": [
    {
     "data": {
      "text/plain": [
       "array([2, 0, 2, ..., 2, 2, 1], dtype=int64)"
      ]
     },
     "execution_count": 184,
     "metadata": {},
     "output_type": "execute_result"
    }
   ],
   "source": [
    "#Generate prediction\n",
    "pred_rf_test = rf_m1.predict(X_test)\n",
    "pred_rf_test\n"
   ]
  },
  {
   "cell_type": "code",
   "execution_count": 185,
   "id": "92da6bd2",
   "metadata": {},
   "outputs": [],
   "source": [
    "pred_rf_test_df['P_TripType'] = pd.DataFrame(pred_rf_test)"
   ]
  },
  {
   "cell_type": "code",
   "execution_count": 193,
   "id": "93ea17df",
   "metadata": {},
   "outputs": [],
   "source": [
    "pred_rf_test_df = pred_rf_test_df.iloc[:,1:]"
   ]
  },
  {
   "cell_type": "code",
   "execution_count": 194,
   "id": "bf9d9e2d",
   "metadata": {},
   "outputs": [],
   "source": [
    "df_test1 = pd.concat([pred_rf_test_df, df_test],axis=1)"
   ]
  },
  {
   "cell_type": "code",
   "execution_count": 195,
   "id": "94c3ab89",
   "metadata": {},
   "outputs": [
    {
     "data": {
      "text/html": [
       "<div>\n",
       "<style scoped>\n",
       "    .dataframe tbody tr th:only-of-type {\n",
       "        vertical-align: middle;\n",
       "    }\n",
       "\n",
       "    .dataframe tbody tr th {\n",
       "        vertical-align: top;\n",
       "    }\n",
       "\n",
       "    .dataframe thead th {\n",
       "        text-align: right;\n",
       "    }\n",
       "</style>\n",
       "<table border=\"1\" class=\"dataframe\">\n",
       "  <thead>\n",
       "    <tr style=\"text-align: right;\">\n",
       "      <th></th>\n",
       "      <th>P_TripType</th>\n",
       "      <th>VisitNumber</th>\n",
       "      <th>Weekday</th>\n",
       "      <th>Upc</th>\n",
       "      <th>ScanCount</th>\n",
       "      <th>DepartmentDescription</th>\n",
       "      <th>FinelineNumber</th>\n",
       "    </tr>\n",
       "  </thead>\n",
       "  <tbody>\n",
       "    <tr>\n",
       "      <th>0</th>\n",
       "      <td>2</td>\n",
       "      <td>87</td>\n",
       "      <td>0</td>\n",
       "      <td>7.106841e+09</td>\n",
       "      <td>1</td>\n",
       "      <td>18</td>\n",
       "      <td>4063</td>\n",
       "    </tr>\n",
       "    <tr>\n",
       "      <th>1</th>\n",
       "      <td>0</td>\n",
       "      <td>361</td>\n",
       "      <td>0</td>\n",
       "      <td>6.727878e+10</td>\n",
       "      <td>1</td>\n",
       "      <td>37</td>\n",
       "      <td>1605</td>\n",
       "    </tr>\n",
       "    <tr>\n",
       "      <th>2</th>\n",
       "      <td>2</td>\n",
       "      <td>385</td>\n",
       "      <td>0</td>\n",
       "      <td>2.840007e+09</td>\n",
       "      <td>1</td>\n",
       "      <td>14</td>\n",
       "      <td>4551</td>\n",
       "    </tr>\n",
       "    <tr>\n",
       "      <th>3</th>\n",
       "      <td>2</td>\n",
       "      <td>413</td>\n",
       "      <td>0</td>\n",
       "      <td>2.200000e+09</td>\n",
       "      <td>1</td>\n",
       "      <td>27</td>\n",
       "      <td>135</td>\n",
       "    </tr>\n",
       "    <tr>\n",
       "      <th>4</th>\n",
       "      <td>2</td>\n",
       "      <td>462</td>\n",
       "      <td>0</td>\n",
       "      <td>7.282133e+10</td>\n",
       "      <td>1</td>\n",
       "      <td>45</td>\n",
       "      <td>744</td>\n",
       "    </tr>\n",
       "    <tr>\n",
       "      <th>...</th>\n",
       "      <td>...</td>\n",
       "      <td>...</td>\n",
       "      <td>...</td>\n",
       "      <td>...</td>\n",
       "      <td>...</td>\n",
       "      <td>...</td>\n",
       "      <td>...</td>\n",
       "    </tr>\n",
       "    <tr>\n",
       "      <th>2995</th>\n",
       "      <td>2</td>\n",
       "      <td>191158</td>\n",
       "      <td>3</td>\n",
       "      <td>5.010046e+09</td>\n",
       "      <td>5</td>\n",
       "      <td>18</td>\n",
       "      <td>4138</td>\n",
       "    </tr>\n",
       "    <tr>\n",
       "      <th>2996</th>\n",
       "      <td>2</td>\n",
       "      <td>191164</td>\n",
       "      <td>3</td>\n",
       "      <td>7.874235e+09</td>\n",
       "      <td>1</td>\n",
       "      <td>13</td>\n",
       "      <td>1508</td>\n",
       "    </tr>\n",
       "    <tr>\n",
       "      <th>2997</th>\n",
       "      <td>2</td>\n",
       "      <td>191225</td>\n",
       "      <td>3</td>\n",
       "      <td>7.047049e+09</td>\n",
       "      <td>1</td>\n",
       "      <td>13</td>\n",
       "      <td>1344</td>\n",
       "    </tr>\n",
       "    <tr>\n",
       "      <th>2998</th>\n",
       "      <td>2</td>\n",
       "      <td>191256</td>\n",
       "      <td>3</td>\n",
       "      <td>4.393559e+09</td>\n",
       "      <td>1</td>\n",
       "      <td>37</td>\n",
       "      <td>5542</td>\n",
       "    </tr>\n",
       "    <tr>\n",
       "      <th>2999</th>\n",
       "      <td>1</td>\n",
       "      <td>191337</td>\n",
       "      <td>3</td>\n",
       "      <td>2.259120e+10</td>\n",
       "      <td>1</td>\n",
       "      <td>35</td>\n",
       "      <td>1301</td>\n",
       "    </tr>\n",
       "  </tbody>\n",
       "</table>\n",
       "<p>3000 rows × 7 columns</p>\n",
       "</div>"
      ],
      "text/plain": [
       "      P_TripType  VisitNumber  Weekday           Upc  ScanCount  \\\n",
       "0              2           87        0  7.106841e+09          1   \n",
       "1              0          361        0  6.727878e+10          1   \n",
       "2              2          385        0  2.840007e+09          1   \n",
       "3              2          413        0  2.200000e+09          1   \n",
       "4              2          462        0  7.282133e+10          1   \n",
       "...          ...          ...      ...           ...        ...   \n",
       "2995           2       191158        3  5.010046e+09          5   \n",
       "2996           2       191164        3  7.874235e+09          1   \n",
       "2997           2       191225        3  7.047049e+09          1   \n",
       "2998           2       191256        3  4.393559e+09          1   \n",
       "2999           1       191337        3  2.259120e+10          1   \n",
       "\n",
       "      DepartmentDescription  FinelineNumber  \n",
       "0                        18            4063  \n",
       "1                        37            1605  \n",
       "2                        14            4551  \n",
       "3                        27             135  \n",
       "4                        45             744  \n",
       "...                     ...             ...  \n",
       "2995                     18            4138  \n",
       "2996                     13            1508  \n",
       "2997                     13            1344  \n",
       "2998                     37            5542  \n",
       "2999                     35            1301  \n",
       "\n",
       "[3000 rows x 7 columns]"
      ]
     },
     "execution_count": 195,
     "metadata": {},
     "output_type": "execute_result"
    }
   ],
   "source": [
    "df_test1"
   ]
  },
  {
   "cell_type": "code",
   "execution_count": 197,
   "id": "2c4912f4",
   "metadata": {},
   "outputs": [],
   "source": [
    "mapping_TripType_rev = {0:7,1:25,2:38}\n",
    "df_test1['TripType'] = df_test1['P_TripType'].apply(lambda x : mapping_TripType_rev[x])\n"
   ]
  },
  {
   "cell_type": "code",
   "execution_count": 198,
   "id": "1a99ff4e",
   "metadata": {},
   "outputs": [
    {
     "data": {
      "text/html": [
       "<div>\n",
       "<style scoped>\n",
       "    .dataframe tbody tr th:only-of-type {\n",
       "        vertical-align: middle;\n",
       "    }\n",
       "\n",
       "    .dataframe tbody tr th {\n",
       "        vertical-align: top;\n",
       "    }\n",
       "\n",
       "    .dataframe thead th {\n",
       "        text-align: right;\n",
       "    }\n",
       "</style>\n",
       "<table border=\"1\" class=\"dataframe\">\n",
       "  <thead>\n",
       "    <tr style=\"text-align: right;\">\n",
       "      <th></th>\n",
       "      <th>P_TripType</th>\n",
       "      <th>VisitNumber</th>\n",
       "      <th>Weekday</th>\n",
       "      <th>Upc</th>\n",
       "      <th>ScanCount</th>\n",
       "      <th>DepartmentDescription</th>\n",
       "      <th>FinelineNumber</th>\n",
       "      <th>TripType</th>\n",
       "    </tr>\n",
       "  </thead>\n",
       "  <tbody>\n",
       "    <tr>\n",
       "      <th>0</th>\n",
       "      <td>2</td>\n",
       "      <td>87</td>\n",
       "      <td>0</td>\n",
       "      <td>7.106841e+09</td>\n",
       "      <td>1</td>\n",
       "      <td>18</td>\n",
       "      <td>4063</td>\n",
       "      <td>38</td>\n",
       "    </tr>\n",
       "    <tr>\n",
       "      <th>1</th>\n",
       "      <td>0</td>\n",
       "      <td>361</td>\n",
       "      <td>0</td>\n",
       "      <td>6.727878e+10</td>\n",
       "      <td>1</td>\n",
       "      <td>37</td>\n",
       "      <td>1605</td>\n",
       "      <td>7</td>\n",
       "    </tr>\n",
       "    <tr>\n",
       "      <th>2</th>\n",
       "      <td>2</td>\n",
       "      <td>385</td>\n",
       "      <td>0</td>\n",
       "      <td>2.840007e+09</td>\n",
       "      <td>1</td>\n",
       "      <td>14</td>\n",
       "      <td>4551</td>\n",
       "      <td>38</td>\n",
       "    </tr>\n",
       "    <tr>\n",
       "      <th>3</th>\n",
       "      <td>2</td>\n",
       "      <td>413</td>\n",
       "      <td>0</td>\n",
       "      <td>2.200000e+09</td>\n",
       "      <td>1</td>\n",
       "      <td>27</td>\n",
       "      <td>135</td>\n",
       "      <td>38</td>\n",
       "    </tr>\n",
       "    <tr>\n",
       "      <th>4</th>\n",
       "      <td>2</td>\n",
       "      <td>462</td>\n",
       "      <td>0</td>\n",
       "      <td>7.282133e+10</td>\n",
       "      <td>1</td>\n",
       "      <td>45</td>\n",
       "      <td>744</td>\n",
       "      <td>38</td>\n",
       "    </tr>\n",
       "    <tr>\n",
       "      <th>...</th>\n",
       "      <td>...</td>\n",
       "      <td>...</td>\n",
       "      <td>...</td>\n",
       "      <td>...</td>\n",
       "      <td>...</td>\n",
       "      <td>...</td>\n",
       "      <td>...</td>\n",
       "      <td>...</td>\n",
       "    </tr>\n",
       "    <tr>\n",
       "      <th>2995</th>\n",
       "      <td>2</td>\n",
       "      <td>191158</td>\n",
       "      <td>3</td>\n",
       "      <td>5.010046e+09</td>\n",
       "      <td>5</td>\n",
       "      <td>18</td>\n",
       "      <td>4138</td>\n",
       "      <td>38</td>\n",
       "    </tr>\n",
       "    <tr>\n",
       "      <th>2996</th>\n",
       "      <td>2</td>\n",
       "      <td>191164</td>\n",
       "      <td>3</td>\n",
       "      <td>7.874235e+09</td>\n",
       "      <td>1</td>\n",
       "      <td>13</td>\n",
       "      <td>1508</td>\n",
       "      <td>38</td>\n",
       "    </tr>\n",
       "    <tr>\n",
       "      <th>2997</th>\n",
       "      <td>2</td>\n",
       "      <td>191225</td>\n",
       "      <td>3</td>\n",
       "      <td>7.047049e+09</td>\n",
       "      <td>1</td>\n",
       "      <td>13</td>\n",
       "      <td>1344</td>\n",
       "      <td>38</td>\n",
       "    </tr>\n",
       "    <tr>\n",
       "      <th>2998</th>\n",
       "      <td>2</td>\n",
       "      <td>191256</td>\n",
       "      <td>3</td>\n",
       "      <td>4.393559e+09</td>\n",
       "      <td>1</td>\n",
       "      <td>37</td>\n",
       "      <td>5542</td>\n",
       "      <td>38</td>\n",
       "    </tr>\n",
       "    <tr>\n",
       "      <th>2999</th>\n",
       "      <td>1</td>\n",
       "      <td>191337</td>\n",
       "      <td>3</td>\n",
       "      <td>2.259120e+10</td>\n",
       "      <td>1</td>\n",
       "      <td>35</td>\n",
       "      <td>1301</td>\n",
       "      <td>25</td>\n",
       "    </tr>\n",
       "  </tbody>\n",
       "</table>\n",
       "<p>3000 rows × 8 columns</p>\n",
       "</div>"
      ],
      "text/plain": [
       "      P_TripType  VisitNumber  Weekday           Upc  ScanCount  \\\n",
       "0              2           87        0  7.106841e+09          1   \n",
       "1              0          361        0  6.727878e+10          1   \n",
       "2              2          385        0  2.840007e+09          1   \n",
       "3              2          413        0  2.200000e+09          1   \n",
       "4              2          462        0  7.282133e+10          1   \n",
       "...          ...          ...      ...           ...        ...   \n",
       "2995           2       191158        3  5.010046e+09          5   \n",
       "2996           2       191164        3  7.874235e+09          1   \n",
       "2997           2       191225        3  7.047049e+09          1   \n",
       "2998           2       191256        3  4.393559e+09          1   \n",
       "2999           1       191337        3  2.259120e+10          1   \n",
       "\n",
       "      DepartmentDescription  FinelineNumber  TripType  \n",
       "0                        18            4063        38  \n",
       "1                        37            1605         7  \n",
       "2                        14            4551        38  \n",
       "3                        27             135        38  \n",
       "4                        45             744        38  \n",
       "...                     ...             ...       ...  \n",
       "2995                     18            4138        38  \n",
       "2996                     13            1508        38  \n",
       "2997                     13            1344        38  \n",
       "2998                     37            5542        38  \n",
       "2999                     35            1301        25  \n",
       "\n",
       "[3000 rows x 8 columns]"
      ]
     },
     "execution_count": 198,
     "metadata": {},
     "output_type": "execute_result"
    }
   ],
   "source": [
    "df_test1"
   ]
  },
  {
   "cell_type": "code",
   "execution_count": 200,
   "id": "16cc5bf7",
   "metadata": {},
   "outputs": [
    {
     "data": {
      "text/plain": [
       "array([38,  7, 25], dtype=int64)"
      ]
     },
     "execution_count": 200,
     "metadata": {},
     "output_type": "execute_result"
    }
   ],
   "source": [
    "df_test1['TripType'].unique()"
   ]
  },
  {
   "cell_type": "code",
   "execution_count": 202,
   "id": "7fb856c9",
   "metadata": {},
   "outputs": [],
   "source": [
    "csv_data = df_test1.to_csv(r'C:\\Apurva\\Data Analytics program\\Capstone project\\final_out.csv', index = False) "
   ]
  },
  {
   "cell_type": "code",
   "execution_count": null,
   "id": "482c87b6",
   "metadata": {},
   "outputs": [],
   "source": []
  }
 ],
 "metadata": {
  "kernelspec": {
   "display_name": "Python 3 (ipykernel)",
   "language": "python",
   "name": "python3"
  },
  "language_info": {
   "codemirror_mode": {
    "name": "ipython",
    "version": 3
   },
   "file_extension": ".py",
   "mimetype": "text/x-python",
   "name": "python",
   "nbconvert_exporter": "python",
   "pygments_lexer": "ipython3",
   "version": "3.11.4"
  }
 },
 "nbformat": 4,
 "nbformat_minor": 5
}
